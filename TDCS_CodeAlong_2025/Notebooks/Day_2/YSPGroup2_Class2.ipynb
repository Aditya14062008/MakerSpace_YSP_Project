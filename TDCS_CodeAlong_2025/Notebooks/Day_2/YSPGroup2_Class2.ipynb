{
 "cells": [
  {
   "cell_type": "markdown",
   "id": "5f841650",
   "metadata": {},
   "source": [
    "# Targeted Travel Ads: Advanced String & Array Operations"
   ]
  },
  {
   "cell_type": "markdown",
   "id": "d62e57c3",
   "metadata": {},
   "source": [
    "You're part of a travel tech company that uses Python to process and analyze user data to optimize ad targeting. Use **intermediate string and list operations** to transform and extract valuable insights from the data.\n",
    "\n",
    "**Constraints:** No loops. Use indexing, slicing, string methods, and other built-in operations."
   ]
  },
  {
   "cell_type": "markdown",
   "id": "0a6d126e",
   "metadata": {},
   "source": [
    "## Task 1: Standardize Usernames\n",
    "Given a comma-separated string of usernames, convert them to lowercase and remove any leading or trailing spaces. \n",
    "\n",
    "DO NOT USE LOOPS. You can use different built-in string and array functions as a workaround. "
   ]
  },
  {
   "cell_type": "code",
   "execution_count": 5,
   "id": "e30cbb58",
   "metadata": {},
   "outputs": [
    {
     "name": "stdout",
     "output_type": "stream",
     "text": [
      " amuro1979 zeta_kamille judauashta pilot4unicorn mafty \n"
     ]
    }
   ],
   "source": [
    "raw_users = [\" Amuro1979\" , \"ZETA_KAMILLE\" , \"JudauAshta\" ,  \"pilot4unicorn\" ,\"Mafty \"]\n",
    "print(raw_users[0].lower(),raw_users[1].lower(),raw_users[2].lower(),raw_users[3].lower(),raw_users[4].lower())\n",
    "# Example: we want to convert a username \"MiLeY\" to \"miley\"\n",
    "# Use the space below to write your code "
   ]
  },
  {
   "cell_type": "markdown",
   "id": "9346817f",
   "metadata": {},
   "source": [
    "## Task 2: Extract and Reconstruct Locations\n",
    "Given a list with mixed format data for each user’s preferred location, extract just the city name and create a clean sentence."
   ]
  },
  {
   "cell_type": "code",
   "execution_count": 6,
   "id": "307ade7a",
   "metadata": {},
   "outputs": [
    {
     "name": "stdout",
     "output_type": "stream",
     "text": [
      "Tokyo New York Paris Rio Cape \n"
     ]
    }
   ],
   "source": [
    "locations = [\"City:Tokyo\", \"City:New York\", \"City:Paris\", \"City:Rio\", \"City:Cape Town\"]\n",
    "print(locations[0][5:10],locations[1][5:15],locations[2][5:10],locations[3][5:10],locations[4][5:10])\n",
    "# Example: from \"City:Mumbai\", we want to extract \"Mumbai\"\n",
    "# Your code below:"
   ]
  },
  {
   "cell_type": "markdown",
   "id": "561650ae",
   "metadata": {},
   "source": [
    "## Task 3: Target Keyword Match\n",
    "Given a user’s profile description, extract and format the keywords related to travel. Assume all travel-related keywords are enclosed in `#`."
   ]
  },
  {
   "cell_type": "code",
   "execution_count": 23,
   "id": "8da8e40a",
   "metadata": {},
   "outputs": [
    {
     "name": "stdout",
     "output_type": "stream",
     "text": [
      "culture beaches adventure\n"
     ]
    }
   ],
   "source": [
    "profile = \"Explorer of #culture#, lover of #beaches#, passionate about #adventures#.\"\n",
    "\n",
    "# Example: if profile =\" We bought a #backpack#\", we would want to extract \"backpack\"\n",
    "# Your code below:\n",
    "\n",
    "print(profile[13:20], profile[33:40], profile[61:70])"
   ]
  },
  {
   "cell_type": "markdown",
   "id": "0c3d29d4",
   "metadata": {},
   "source": [
    "## Task 4: Merge Interest Tags\n",
    "Two users have their travel interest tags. Merge them into a single list without duplicates and sort alphabetically."
   ]
  },
  {
   "cell_type": "code",
   "execution_count": 24,
   "id": "ebd8ced4",
   "metadata": {},
   "outputs": [
    {
     "name": "stdout",
     "output_type": "stream",
     "text": [
      "['mountains', 'beach', 'desert', 'city', 'beach', 'culture', 'mountains', 'safari']\n"
     ]
    }
   ],
   "source": [
    "user1_tags = [\"mountains\", \"beach\", \"desert\", \"city\"]\n",
    "user2_tags = [\"beach\", \"culture\", \"mountains\", \"safari\"]\n",
    "st=user1_tags+user2_tags\n",
    "print(st)\n",
    "# Example: user1_tags = [\"cycling\", \"hiking\"], user2_tags=[\"swimming\", \"cycling\"], we want to create a combine_tags=[\"cycling\", \"hiking\", \"swimming\"]\n",
    "# Your code below:"
   ]
  },
  {
   "cell_type": "markdown",
   "id": "7bda694b",
   "metadata": {},
   "source": [
    "## Task 5: Masking Usernames\n",
    "You want to show partially anonymized usernames in reports. Show only the first 3 characters followed by `***`."
   ]
  },
  {
   "cell_type": "code",
   "execution_count": 20,
   "id": "d1a85797",
   "metadata": {},
   "outputs": [
    {
     "name": "stdout",
     "output_type": "stream",
     "text": [
      "amuro1*** zeta_kami*** judauas*** pilot4unic***\n"
     ]
    }
   ],
   "source": [
    "usernames = [\"amuro1979\", \"zeta_kamille\", \"judauashta\", \"pilot4unicorn\", \"mafty\"]\n",
    "u1=usernames[0].replace(\"979\",\"***\")\n",
    "u2=usernames[1].replace(\"lle\",\"***\")\n",
    "u3=usernames[2].replace(\"hta\",\"***\")\n",
    "u4=usernames[3].replace(\"orn\",\"***\")\n",
    "u5=usernames[4].replace(\"fty\",\"***\")\n",
    "print(u1, u2,u3,u4)\n",
    "# Example: \"Roshni\" would get converted to \"Ros***\"\n",
    "# Your code below:\n",
    "\n"
   ]
  }
 ],
 "metadata": {
  "colab": {
   "provenance": []
  },
  "kernelspec": {
   "display_name": ".venv",
   "language": "python",
   "name": "python3"
  },
  "language_info": {
   "codemirror_mode": {
    "name": "ipython",
    "version": 3
   },
   "file_extension": ".py",
   "mimetype": "text/x-python",
   "name": "python",
   "nbconvert_exporter": "python",
   "pygments_lexer": "ipython3",
   "version": "3.12.10"
  }
 },
 "nbformat": 4,
 "nbformat_minor": 0
}
