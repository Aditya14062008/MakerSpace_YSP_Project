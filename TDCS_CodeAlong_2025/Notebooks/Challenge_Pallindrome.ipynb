{
 "cells": [
  {
   "cell_type": "markdown",
   "id": "2e6c1175",
   "metadata": {},
   "source": [
    "TASK:- Given two names as inputs, determine if their relationship is \"magical\". A magical bond is formed if the string formed by combining both names reads the same fowards and backwards.\n",
    "\n",
    "Eg:-\n",
    "input_1=\"ana\", input_2=\"nana\"\n",
    "\n",
    "here \"ana\"+\"nana\"=\"ananana\" is a pallindrome"
   ]
  },
  {
   "cell_type": "code",
   "execution_count": 3,
   "id": "f4eaef3e",
   "metadata": {},
   "outputs": [
    {
     "name": "stdout",
     "output_type": "stream",
     "text": [
      "It is MAGICAL!!\n",
      "['lalalalal']\n"
     ]
    }
   ],
   "source": [
    "def palli(s1, s2):\n",
    "    sent=s1+s2\n",
    "    pal=sent.split()\n",
    "    for ch in pal:\n",
    "        if ch==ch[::-1]:\n",
    "            print(\"It is MAGICAL!!\")\n",
    "        else:\n",
    "            print(\"It is not MAGICAL:(\")\n",
    "    print(pal)\n",
    "s1=input(\"Enter first string\")\n",
    "s2=input(\"Enter second string\")\n",
    "palli(s1,s2)\n"
   ]
  }
 ],
 "metadata": {
  "kernelspec": {
   "display_name": ".venv",
   "language": "python",
   "name": "python3"
  },
  "language_info": {
   "codemirror_mode": {
    "name": "ipython",
    "version": 3
   },
   "file_extension": ".py",
   "mimetype": "text/x-python",
   "name": "python",
   "nbconvert_exporter": "python",
   "pygments_lexer": "ipython3",
   "version": "3.12.10"
  }
 },
 "nbformat": 4,
 "nbformat_minor": 5
}
