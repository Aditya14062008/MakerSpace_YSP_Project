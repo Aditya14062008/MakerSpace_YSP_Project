{
 "cells": [
  {
   "cell_type": "markdown",
   "id": "3e370c71",
   "metadata": {},
   "source": [
    "### Birthday lore \n",
    "\n",
    "Imagine it is your birthday and you post a story saying \"feeling blessed 🙏\". Then Boom! Your DMs get filled with 30 \"HBD Brooo 🎉🎉🎉\"s. You're grateful, emotional, and even slightly shocked that 30 people cared to reply. This feeling soon drains when you realise you must now run a one-man \"Thank you\" factory. \n",
    "You type and type and type..."
   ]
  },
  {
   "cell_type": "code",
   "execution_count": null,
   "id": "51011a9c",
   "metadata": {},
   "outputs": [],
   "source": [
    "print(\"Thanks, Neha!\")\n",
    "print(\"Thanks, Prithvi!\")\n",
    "print(\"Thanks, Tushar!\")\n",
    "print(\"Thanks, Roshni!\")\n",
    "\n",
    "# ... in short: you don't feel as blessed anymore "
   ]
  },
  {
   "cell_type": "code",
   "execution_count": 24,
   "id": "49b08c77",
   "metadata": {},
   "outputs": [
    {
     "name": "stdout",
     "output_type": "stream",
     "text": [
      "Thanks, Neha!\n",
      "Thanks, Prithivi!\n",
      "Thanks, Tushar!\n",
      "Thanks, Roshni!\n"
     ]
    }
   ],
   "source": [
    "l= [\"Neha\", \"Prithivi\",\"Tushar\",\"Roshni\"]\n",
    "for ch in l:\n",
    "    print(f\"Thanks, {ch}!\")"
   ]
  },
  {
   "cell_type": "markdown",
   "id": "3591bd20",
   "metadata": {},
   "source": [
    "### Loop for the greater good\n",
    "\n",
    "Equipped with our new tool of loops we feel greatly epowered. No longer do we have to do the same task over and over. \n",
    "\n",
    "The next day we see a shopkeeper struggling to calculate the prices of his products after a 30% discount. The discount only applies for products that have a price over 50 Rs. This is the current price of his products: \n",
    "\n",
    "```python\n",
    "prices =[67.9, 57.3, 91.4, 11.4, 23.8, 13.9, 99.9, 26.3, 90.1, 82.3, 77.4, 52.9]\n"
   ]
  },
  {
   "cell_type": "code",
   "execution_count": null,
   "id": "db7faf22",
   "metadata": {},
   "outputs": [],
   "source": []
  },
  {
   "cell_type": "markdown",
   "id": "6252947b",
   "metadata": {},
   "source": [
    "Nested loops explainer: https://www.youtube.com/watch?v=je2hZUyq7IA&t=229s"
   ]
  },
  {
   "cell_type": "markdown",
   "id": "9061b265",
   "metadata": {},
   "source": [
    "### 🧮 Multiplication table using nested loops \n",
    "\n",
    "Remember your middle school teacher asking you to write down multiplication tables?10 years later you figured out a way to get a code to write it for you. Nested loops allow you to iterate over multiple dimensions, which is very useful in tasks like generating tables, patterns, or processing matrices."
   ]
  },
  {
   "cell_type": "code",
   "execution_count": 22,
   "id": "ffdc2583",
   "metadata": {},
   "outputs": [
    {
     "name": "stdout",
     "output_type": "stream",
     "text": [
      "      1      2      3      4      5      6      7      8      9     10     11     12\n",
      "      2      4      6      8     10     12     14     16     18     20     22     24\n",
      "      3      6      9     12     15     18     21     24     27     30     33     36\n",
      "      4      8     12     16     20     24     28     32     36     40     44     48\n",
      "      5     10     15     20     25     30     35     40     45     50     55     60\n",
      "      6     12     18     24     30     36     42     48     54     60     66     72\n",
      "      7     14     21     28     35     42     49     56     63     70     77     84\n",
      "      8     16     24     32     40     48     56     64     72     80     88     96\n",
      "      9     18     27     36     45     54     63     72     81     90     99    108\n",
      "     10     20     30     40     50     60     70     80     90    100    110    120\n",
      "     11     22     33     44     55     66     77     88     99    110    121    132\n",
      "     12     24     36     48     60     72     84     96    108    120    132    144\n",
      "None\n"
     ]
    }
   ],
   "source": [
    "'''n=int(input(\"Enter Number\"))\n",
    "for i in range(1,11):\n",
    "    print(f\"{i} X {n}={i*n}\")'''\n",
    "\n",
    "def mult_table(n):\n",
    "    for i in range(1,n+1):\n",
    "        for j in range(1,n+1):\n",
    "            print(f\"{i * j:7}\", end=\"\")\n",
    "        print()\n",
    "\n",
    "n=int(input(\"Enter value\"))\n",
    "print(mult_table(n))\n",
    "\n",
    "        "
   ]
  },
  {
   "cell_type": "markdown",
   "id": "3291e4e5",
   "metadata": {},
   "source": [
    "### Answer: "
   ]
  },
  {
   "cell_type": "code",
   "execution_count": 2,
   "id": "3383b52a",
   "metadata": {},
   "outputs": [
    {
     "name": "stdout",
     "output_type": "stream",
     "text": [
      "         1         2         3         4         5         6         7         8         9        10\n",
      "         2         4         6         8        10        12        14        16        18        20\n",
      "         3         6         9        12        15        18        21        24        27        30\n",
      "         4         8        12        16        20        24        28        32        36        40\n",
      "         5        10        15        20        25        30        35        40        45        50\n",
      "         6        12        18        24        30        36        42        48        54        60\n",
      "         7        14        21        28        35        42        49        56        63        70\n",
      "         8        16        24        32        40        48        56        64        72        80\n",
      "         9        18        27        36        45        54        63        72        81        90\n",
      "        10        20        30        40        50        60        70        80        90       100\n"
     ]
    }
   ],
   "source": [
    "# Multiplication table from 1 to 10 using nested loops\n",
    "\n",
    "# Outer loop: iterates through numbers 1 to 10\n",
    "for i in range(1, 11):\n",
    "    # Inner loop: multiplies i with values from 1 to 10\n",
    "    for j in range(1, 11):\n",
    "        # Print product in a formatted way with width 4\n",
    "        print(f\"{i * j:10}\", end=\"\")\n",
    "    # Newline after each row\n",
    "    print()\n"
   ]
  },
  {
   "cell_type": "markdown",
   "id": "01d9ea69",
   "metadata": {},
   "source": [
    "### Pattern using nested loops "
   ]
  },
  {
   "cell_type": "markdown",
   "id": "f31df8ce",
   "metadata": {},
   "source": [
    "### Pattern 1\n",
    "\n",
    "```text\n",
    "*\n",
    "* *\n",
    "* * *\n",
    "* * * *\n",
    "* * * * *\n",
    "\n",
    "key concept: depending condition of an inner loop on an outer loop variable "
   ]
  },
  {
   "cell_type": "markdown",
   "id": "982a854c",
   "metadata": {},
   "source": [
    "### Answer"
   ]
  },
  {
   "cell_type": "code",
   "execution_count": 6,
   "id": "2cdcede1",
   "metadata": {},
   "outputs": [
    {
     "name": "stdout",
     "output_type": "stream",
     "text": [
      "* \n",
      "* * \n",
      "* * * \n",
      "* * * * \n",
      "* * * * * \n"
     ]
    }
   ],
   "source": [
    "# Right-angled triangle pattern\n",
    "rows = 5\n",
    "for i in range(1, rows + 1):\n",
    "    for j in range(i):\n",
    "        print(\"*\", end=\" \")\n",
    "    print()\n"
   ]
  },
  {
   "cell_type": "markdown",
   "id": "08b09ff3",
   "metadata": {},
   "source": [
    "### Pattern 2\n",
    "\n",
    "``` text\n",
    "\n",
    "1\n",
    "1 2\n",
    "1 2 3\n",
    "1 2 3 4\n",
    "1 2 3 4 5"
   ]
  },
  {
   "cell_type": "markdown",
   "id": "ae675b8e",
   "metadata": {},
   "source": [
    "### Answer"
   ]
  },
  {
   "cell_type": "code",
   "execution_count": 3,
   "id": "9b0e9d03",
   "metadata": {},
   "outputs": [
    {
     "name": "stdout",
     "output_type": "stream",
     "text": [
      "1 \n",
      "1 2 \n",
      "1 2 3 \n",
      "1 2 3 4 \n",
      "1 2 3 4 5 \n"
     ]
    }
   ],
   "source": [
    "rows = 5\n",
    "for i in range(1, rows + 1):\n",
    "    for j in range(1, i + 1):\n",
    "        print(j, end=\" \")\n",
    "    print()\n"
   ]
  },
  {
   "cell_type": "markdown",
   "id": "a65d66dd",
   "metadata": {},
   "source": [
    "### Your turn: Pattern 3\n",
    "``` text\n",
    "1\n",
    "2 2\n",
    "3 3 3\n",
    "4 4 4 4 \n",
    "5 5 5 5 5\n",
    "\n",
    "key concept: know the structure of a pattern and know what you are printing "
   ]
  },
  {
   "cell_type": "markdown",
   "id": "08d48b85",
   "metadata": {},
   "source": [
    "### Answer"
   ]
  },
  {
   "cell_type": "code",
   "execution_count": 2,
   "id": "ddf9ab06",
   "metadata": {},
   "outputs": [
    {
     "name": "stdout",
     "output_type": "stream",
     "text": [
      "1 \n",
      "2 2 \n",
      "3 3 3 \n",
      "4 4 4 4 \n",
      "5 5 5 5 5 \n"
     ]
    }
   ],
   "source": [
    "rows = 5\n",
    "for i in range(1, rows + 1):\n",
    "    for j in range(i):\n",
    "        print(i, end=\" \")\n",
    "    print()\n"
   ]
  },
  {
   "cell_type": "markdown",
   "id": "eb9fb558",
   "metadata": {},
   "source": [
    "### Your turn: Pattern 4\n",
    "\n",
    "```text \n",
    "1 2 3 4 5 \n",
    "1 2 3 4\n",
    "1 2 3 \n",
    "1 2 \n",
    "1\n"
   ]
  },
  {
   "cell_type": "markdown",
   "id": "ce3a8a40",
   "metadata": {},
   "source": [
    "### Answer \n"
   ]
  },
  {
   "cell_type": "code",
   "execution_count": 1,
   "id": "952329ce",
   "metadata": {},
   "outputs": [
    {
     "name": "stdout",
     "output_type": "stream",
     "text": [
      "1 2 3 4 5 \n",
      "1 2 3 4 \n",
      "1 2 3 \n",
      "1 2 \n",
      "1 \n"
     ]
    }
   ],
   "source": [
    "rows = 5\n",
    "for i in range(rows, 0, -1):\n",
    "    for j in range(1, i + 1):\n",
    "        print(j, end=\" \")\n",
    "    print()\n"
   ]
  }
 ],
 "metadata": {
  "kernelspec": {
   "display_name": ".venv",
   "language": "python",
   "name": "python3"
  },
  "language_info": {
   "codemirror_mode": {
    "name": "ipython",
    "version": 3
   },
   "file_extension": ".py",
   "mimetype": "text/x-python",
   "name": "python",
   "nbconvert_exporter": "python",
   "pygments_lexer": "ipython3",
   "version": "3.12.10"
  }
 },
 "nbformat": 4,
 "nbformat_minor": 5
}
