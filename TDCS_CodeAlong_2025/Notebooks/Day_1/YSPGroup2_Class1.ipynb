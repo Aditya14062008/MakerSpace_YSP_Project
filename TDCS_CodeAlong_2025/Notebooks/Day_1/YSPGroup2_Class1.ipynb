{
  "cells": [
    {
      "cell_type": "markdown",
      "metadata": {
        "id": "sdIYWm7OqZdc"
      },
      "source": [
        "# Welcome to Python: Behind the Screen!\n",
        "\n",
        "You’ve just seen how websites track your every move online.  \n",
        "Now it’s time to pull back the curtain and explore the code powering it all.\n",
        "\n",
        "Today, we’ll dive into some Python fundamentals — the building blocks behind apps, algorithms, and even tracking tools.\n",
        "\n",
        "Here’s what we’ll cover:\n",
        "\n",
        "\n",
        "\n",
        "*   Variables\n",
        "*   Data types & typecasting\n",
        "*   Print statements & inputs  \n",
        "*   Functions\n",
        "\n",
        "**Feel free to tweak the code, break it, fix it, and experiment — that’s how you really learn.**\n",
        "\n",
        "\n",
        "---\n",
        "\n",
        "\n"
      ]
    },
    {
      "cell_type": "markdown",
      "metadata": {
        "id": "h9RX2lg4rnCJ"
      },
      "source": [
        "\n",
        "\n",
        "The datatype of a variable is dependent on the **type** of data we want to store in it. For example:\n",
        "\n",
        "> * int - integer : used to store integer numbers only (e.g. 7)\n",
        "> * float - floating point : used to store decimal numbers (e.g. 3.14)\n",
        "*   bool - boolean : used to store True/False values (only True and False no other values)\n",
        "*   str - string : used to store a string of letters such as words and sentences(e.g. \"Rainbow\"). When creating (aka initializing) a string datatype you must contain the string in double quotations \"\n",
        "\n",
        "\n",
        "\n"
      ]
    },
    {
      "cell_type": "markdown",
      "metadata": {
        "id": "Mf86nR8smtb3"
      },
      "source": [
        "# Meet Alice\n",
        "\n",
        "The code below shows variables storing information regarding Alice.\n",
        "\n",
        "Note that variables can be called anything (i.e. we could change the variable *favcolour* to *favouritecolor*  too- it is just a name)"
      ]
    },
    {
      "cell_type": "code",
      "execution_count": 4,
      "metadata": {
        "id": "vZRecVxrq2_b"
      },
      "outputs": [],
      "source": [
        "name = \"Alice\"\n",
        "age = 16\n",
        "favcolour = \"Purple\"\n",
        "height= 5.25\n",
        "athlete= True"
      ]
    },
    {
      "cell_type": "code",
      "execution_count": 5,
      "metadata": {
        "colab": {
          "base_uri": "https://localhost:8080/"
        },
        "id": "oAwEnOwguxQn",
        "outputId": "7ee719f9-25bb-4741-f828-26c690153f0c"
      },
      "outputs": [
        {
          "name": "stdout",
          "output_type": "stream",
          "text": [
            "Alice\n"
          ]
        }
      ],
      "source": [
        "print(name)"
      ]
    },
    {
      "cell_type": "markdown",
      "metadata": {
        "id": "NlBTIYigr49w"
      },
      "source": [
        "We can find out the datatypes of different variables using the type() function. Try finding out the datatypes of all the varaibles associated with Alice."
      ]
    },
    {
      "cell_type": "code",
      "execution_count": 6,
      "metadata": {
        "colab": {
          "base_uri": "https://localhost:8080/"
        },
        "id": "z8Hem1q391Ue",
        "outputId": "444ae3ca-18ac-4f5e-a885-1a6a12c0da78"
      },
      "outputs": [
        {
          "name": "stdout",
          "output_type": "stream",
          "text": [
            "<class 'str'>\n",
            "<class 'int'>\n"
          ]
        }
      ],
      "source": [
        "print(type(name))\n",
        "print(type(age))\n",
        "# try running for other variables as well"
      ]
    },
    {
      "cell_type": "markdown",
      "metadata": {
        "id": "ULVZ1G3k_Y1G"
      },
      "source": [
        "#Build a calculator\n",
        "\n",
        "Create a function named *two_numbers* that takes two inputs and calculate their sum, difference, product, quotient and remainder on dividing. Store these values in different variables."
      ]
    },
    {
      "cell_type": "code",
      "execution_count": 7,
      "metadata": {
        "id": "mc8p_lNguwD0"
      },
      "outputs": [
        {
          "name": "stdout",
          "output_type": "stream",
          "text": [
            "Sum 15 Product 50 Difference -5 Quotient 0 Remainder 5\n"
          ]
        }
      ],
      "source": [
        "def two_numbers(a,b):\n",
        "    sum=a+b\n",
        "    diff=a-b\n",
        "    pro=a*b\n",
        "    quo=a//b\n",
        "    rem=a%b\n",
        "    print(f\"Sum {sum} Product {pro} Difference {diff} Quotient {quo} Remainder {rem}\")\n",
        "\n",
        "two_numbers(5,10)"
      ]
    },
    {
      "cell_type": "markdown",
      "metadata": {
        "id": "rtW6YneBEC-i"
      },
      "source": [
        "# Sign Check\n",
        "\n",
        "Create a function named *sign_of_number* that returns \"positive\", \"zero\", or \"negative\" based on an integer. This demonstrates conditional branching with if-elif-else and comparison operators"
      ]
    },
    {
      "cell_type": "code",
      "execution_count": 8,
      "metadata": {
        "id": "iCkdDR3ME1X7"
      },
      "outputs": [
        {
          "name": "stdout",
          "output_type": "stream",
          "text": [
            "It is positive\n"
          ]
        }
      ],
      "source": [
        "def sign_of_numbers(a):\n",
        "    if a==0:\n",
        "        print('the value is ZERO')\n",
        "    elif a>0:\n",
        "        print(\"It is positive\")\n",
        "    else:\n",
        "        print(\"It is less negative\")\n",
        "\n",
        "sign_of_numbers(10)"
      ]
    },
    {
      "cell_type": "markdown",
      "metadata": {
        "id": "v6Ai-nCIrql6"
      },
      "source": [
        "# Area Quest\n",
        "\n",
        "Create a function named *areas* that takes 3 inputs and calculate the following:\n",
        "\n",
        "assuming first input is a, second input is b, and third input is choice\n",
        "\n",
        "1. Area of rectangle: assuming a is length, b is breadth\n",
        "2. Area of a circle: assuming a is radius\n",
        "3. Area of a triangle: assuming a is height, b is breadth\n",
        "\n",
        "store the values in different variables.\n",
        "\n",
        "if choice = 0, return area of rectangle. choice = 1, return area of circle, and choice= 2, return area of triangle.\n",
        "\n"
      ]
    },
    {
      "cell_type": "code",
      "execution_count": 9,
      "metadata": {
        "id": "ySlXXIPA_cZf"
      },
      "outputs": [
        {
          "name": "stdout",
          "output_type": "stream",
          "text": [
            "50\n"
          ]
        }
      ],
      "source": [
        "def ar_rect(a,b):\n",
        "    ar=a*b\n",
        "    print(ar)\n",
        "\n",
        "def ar_circle(a):\n",
        "    ar=3.14*a**2\n",
        "    print(ar)\n",
        "\n",
        "def ar_tri(a,b):\n",
        "    ar=0.5*a*b\n",
        "    print(ar)\n",
        "\n",
        "ch=int(input(\"Enter 1 for Ar of rectangel\\nEnter 2 for Area of Circle\\nEnter 3 fot Area of triangle\"))\n",
        "if ch==1:\n",
        "    ar_rect(5,10)\n",
        "elif ch==2:\n",
        "    ar_circle(5)\n",
        "else:\n",
        "    ar_tri(5,10)"
      ]
    },
    {
      "cell_type": "markdown",
      "metadata": {
        "id": "25AsGBJ3pu4M"
      },
      "source": [
        "#Typecasting\n",
        "\n",
        "We’re now going to convert values from one data type to another — this is called **type casting**.\n",
        "\n",
        "Examples:\n",
        "\n",
        "* `1235272` → `\"1235272\"` : from **integer** to **string**\n",
        "* `\"6.78\"` → `6.78` : from **string** to **float**\n",
        "\n",
        "This helps us control how data is stored, displayed, or used in calculations.\n",
        "\n",
        "type-cast the following into other datatypes- observe for which datatypes you get errors.\n",
        "\n"
      ]
    },
    {
      "cell_type": "code",
      "execution_count": 10,
      "metadata": {
        "id": "Wa9vDZLAqATS"
      },
      "outputs": [
        {
          "name": "stdout",
          "output_type": "stream",
          "text": [
            "<class 'int'>\n",
            "<class 'str'>\n"
          ]
        }
      ],
      "source": [
        "val = 5.689\n",
        "address = \"301\"\n",
        "frequency= 11\n",
        "\n",
        "print(type(int(val)))\n",
        "#after converting, you can check its datatype as well. Ex:\n",
        "print(type (str(val)))"
      ]
    }
  ],
  "metadata": {
    "colab": {
      "provenance": []
    },
    "kernelspec": {
      "display_name": ".venv",
      "language": "python",
      "name": "python3"
    },
    "language_info": {
      "codemirror_mode": {
        "name": "ipython",
        "version": 3
      },
      "file_extension": ".py",
      "mimetype": "text/x-python",
      "name": "python",
      "nbconvert_exporter": "python",
      "pygments_lexer": "ipython3",
      "version": "3.12.10"
    }
  },
  "nbformat": 4,
  "nbformat_minor": 0
}
