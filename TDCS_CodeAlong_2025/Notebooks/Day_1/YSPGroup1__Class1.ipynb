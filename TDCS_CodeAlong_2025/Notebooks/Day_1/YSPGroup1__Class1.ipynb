{
  "cells": [
    {
      "cell_type": "markdown",
      "metadata": {
        "id": "0YymL0G2sO6u"
      },
      "source": [
        "\n",
        "\n",
        "# Welcome to Python: Behind the Screen!\n",
        "\n",
        "You’ve just seen how websites track your every move online.  \n",
        "Now it’s time to pull back the curtain and explore the code powering it all.\n",
        "\n",
        "Today, we’ll dive into some Python fundamentals — the building blocks behind apps, algorithms, and even tracking tools.\n",
        "\n",
        "Here’s what we’ll cover:\n",
        "\n",
        "🔹 Variables  \n",
        "🔹 Data types  \n",
        "🔹 Print statements & inputs  \n",
        "🔹 Functions\n",
        "\n",
        "**Feel free to tweak the code, break it, fix it, and experiment — that’s how you really learn.**\n",
        "\n",
        "---\n",
        "\n",
        "\n"
      ]
    },
    {
      "cell_type": "markdown",
      "metadata": {
        "id": "cQIsJb3cchA7"
      },
      "source": [
        "Note that variables can be called anything (i.e. we could change the variable *favcolour* to *favouritecolor*  too- it is just a name)\n",
        "\n",
        "The datatype of a variable is dependent on the **type** of data we want to store in it. For example:\n",
        "\n",
        "> * int - integer : used to store integer numbers only (e.g. 7)\n",
        "> * float - floating point : used to store decimal numbers (e.g. 3.14)\n",
        "*   bool - boolean : used to store True/False values (only True and False no other values)\n",
        "*   str - string : used to store a string of letters such as words and sentences(e.g. \"Rainbow\"). When creating (aka initializing) a string datatype you must contain the string in double quotations \""
      ]
    },
    {
      "cell_type": "markdown",
      "metadata": {
        "id": "wmNEMcPmsuFl"
      },
      "source": [
        "# Greetings\n",
        "\n",
        "Create a variable called student_name and assign your name to it.\n",
        "\n",
        "Then print a sentence like \"Hello, [your name]!\"\n",
        "\n",
        "🔧 Challenge: Add another line that prints your favorite color using a new variable."
      ]
    },
    {
      "cell_type": "code",
      "execution_count": 1,
      "metadata": {
        "id": "2WOW4d7Xr9K4"
      },
      "outputs": [
        {
          "name": "stdout",
          "output_type": "stream",
          "text": [
            "Hello Aditya Lal\n"
          ]
        }
      ],
      "source": [
        "student_name=\"Aditya Lal\"\n",
        "print(f\"Hello {student_name}\")"
      ]
    },
    {
      "cell_type": "markdown",
      "metadata": {
        "id": "fIwZJzT_jeF0"
      },
      "source": [
        "# Weather Update\n",
        "\n",
        "Recall the if-else structure:\n",
        "\n",
        "* we will perform statements under an if statement only if a condition is satisfied.\n",
        "\n",
        "* If not then we move onto to check the next elif condition (if it exists) and keep doing this until a condition is satisfied.\n",
        "\n",
        "* If no condition is satisfied then we perform the statements under else"
      ]
    },
    {
      "cell_type": "markdown",
      "metadata": {
        "id": "lRVUNEDos6j7"
      },
      "source": [
        "\n",
        "\n",
        "Set a variable called temperature (e.g., 28).\n",
        "If it's 30 or more, print \"It's hot today!\"\n",
        "Otherwise, print \"It's not that hot.\"\n",
        "\n",
        "🔧 Challenge: Add a third condition: If it's below 15, print \"It's cold today!\""
      ]
    },
    {
      "cell_type": "code",
      "execution_count": 2,
      "metadata": {
        "id": "DfXANpGItIrH"
      },
      "outputs": [
        {
          "name": "stdout",
          "output_type": "stream",
          "text": [
            "It is a hot day with temp 30.0\n"
          ]
        }
      ],
      "source": [
        "temp=float(input(\"Enter Temprature\"))\n",
        "if temp>=30:\n",
        "    print(f\"It is a hot day with temp {temp}\")\n",
        "elif temp<15:\n",
        "    print(f\"It is a cold day with temp {temp}\")\n",
        "else:\n",
        "    print(\"It is not that hot\")\n"
      ]
    },
    {
      "cell_type": "markdown",
      "metadata": {
        "id": "UJfiifDAtJIk"
      },
      "source": [
        "# Build a calculator\n",
        "\n",
        "Define a function called *add_numbers* that takes two numbers and returns their sum.\n",
        "\n",
        "Call the function with 10 and 15, and print the result.\n",
        "\n",
        "🔧 Challenge: How would you change the function if you had to find their product, remainder on dividing?"
      ]
    },
    {
      "cell_type": "code",
      "execution_count": 3,
      "metadata": {
        "id": "unPCTHGsuN3E"
      },
      "outputs": [
        {
          "name": "stdout",
          "output_type": "stream",
          "text": [
            "15\n"
          ]
        }
      ],
      "source": [
        "def two_numbers(a,b):\n",
        "    sum=a+b\n",
        "    print(sum)\n",
        "two_numbers(5,10)"
      ]
    },
    {
      "cell_type": "markdown",
      "metadata": {
        "id": "1q8AH36PkbTS"
      },
      "source": [
        "# User survey\n",
        "\n",
        "Create a function that takes in user data- Ask for their name, age, country of residence, and their experience (on a scale of 1-5).\n",
        "\n",
        "Write a short paragraph summarizing the user's data and experience."
      ]
    },
    {
      "cell_type": "code",
      "execution_count": 4,
      "metadata": {
        "id": "WBYQzcVxlNCw"
      },
      "outputs": [
        {
          "name": "stdout",
          "output_type": "stream",
          "text": [
            "Name lal, Age: 13, Country india, experience 9\n",
            "None\n"
          ]
        }
      ],
      "source": [
        "def review():\n",
        "    nm=input(\"Enter name\")\n",
        "    age=int(input(\"Enter age\"))\n",
        "    cont=input(\"Enter country\")\n",
        "    exp=int(input(\"Enter experience\"))\n",
        "    print(f\"Name {nm}, Age: {age}, Country {cont}, experience {exp}\")\n",
        "\n",
        "print(review())"
      ]
    },
    {
      "cell_type": "markdown",
      "metadata": {
        "id": "oz_d4QmcuYkg"
      },
      "source": [
        "# Typecasting\n",
        "\n",
        "We’re now going to convert values from one data type to another — this is called **type casting**.\n",
        "\n",
        "Examples:\n",
        "\n",
        "* `1235272` → `\"1235272\"` : from **integer** to **string**\n",
        "* `\"6.78\"` → `6.78` : from **string** to **float**\n",
        "\n",
        "This helps us control how data is stored, displayed, or used in calculations."
      ]
    },
    {
      "cell_type": "code",
      "execution_count": 5,
      "metadata": {
        "id": "b4EQihs7uaQk"
      },
      "outputs": [
        {
          "name": "stdout",
          "output_type": "stream",
          "text": [
            "<class 'str'>\n",
            "<class 'str'>\n"
          ]
        }
      ],
      "source": [
        "val = 5.689\n",
        "address = \"301\"\n",
        "frequency= 11\n",
        "\n",
        "#after converting, you can check its datatype as well. Ex:\n",
        "print(type (str(val)))\n",
        "print(type (str(frequency)))\n"
      ]
    }
  ],
  "metadata": {
    "colab": {
      "provenance": []
    },
    "kernelspec": {
      "display_name": ".venv",
      "language": "python",
      "name": "python3"
    },
    "language_info": {
      "codemirror_mode": {
        "name": "ipython",
        "version": 3
      },
      "file_extension": ".py",
      "mimetype": "text/x-python",
      "name": "python",
      "nbconvert_exporter": "python",
      "pygments_lexer": "ipython3",
      "version": "3.12.10"
    }
  },
  "nbformat": 4,
  "nbformat_minor": 0
}
